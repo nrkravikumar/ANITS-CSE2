{
 "cells": [
  {
   "cell_type": "markdown",
   "metadata": {},
   "source": [
    "# Pattern by using Conditional,Jumping statements etc.,"
   ]
  },
  {
   "cell_type": "code",
   "execution_count": 23,
   "metadata": {},
   "outputs": [
    {
     "name": "stdout",
     "output_type": "stream",
     "text": [
      "() ** :: ** () || () \n",
      "** :: ** [] :: || ** \n",
      ":: ** [] :: [] || :: \n",
      "## ## ## ## ## || ## \n",
      "## ## ## \n"
     ]
    }
   ],
   "source": [
    "a = 1\n",
    "for i in range(1,6):\n",
    "    for j in range(1,8):\n",
    "        if a>31:\n",
    "            break\n",
    "        else:\n",
    "            if j==6:\n",
    "                print(\"{:2}\".format(\"||\"),end=\" \")\n",
    "            elif i==4 or i==5:\n",
    "                print(\"{:2}\".format(\"##\"),end=\" \")\n",
    "            elif a%3==0:\n",
    "                print(\"{:2}\".format(\"::\"),end=\" \")\n",
    "            elif a%2==0:\n",
    "                print(\"{:2}\".format(\"**\"),end=\" \")\n",
    "            elif a<=9:\n",
    "                print(\"{:2}\".format(\"()\"),end=\" \")\n",
    "            elif a>=10:\n",
    "                print(\"{:2}\".format(\"[]\"),end=\" \")\n",
    "            else:\n",
    "                print(\"{:2}\".format(a),end=\" \")\n",
    "        a+=1\n",
    "    print(end=\"\\n\")"
   ]
  },
  {
   "cell_type": "code",
   "execution_count": 24,
   "metadata": {},
   "outputs": [
    {
     "name": "stdout",
     "output_type": "stream",
     "text": [
      "['__add__', '__class__', '__contains__', '__delattr__', '__dir__', '__doc__', '__eq__', '__format__', '__ge__', '__getattribute__', '__getitem__', '__getnewargs__', '__gt__', '__hash__', '__init__', '__init_subclass__', '__iter__', '__le__', '__len__', '__lt__', '__mod__', '__mul__', '__ne__', '__new__', '__reduce__', '__reduce_ex__', '__repr__', '__rmod__', '__rmul__', '__setattr__', '__sizeof__', '__str__', '__subclasshook__', 'capitalize', 'casefold', 'center', 'count', 'encode', 'endswith', 'expandtabs', 'find', 'format', 'format_map', 'index', 'isalnum', 'isalpha', 'isascii', 'isdecimal', 'isdigit', 'isidentifier', 'islower', 'isnumeric', 'isprintable', 'isspace', 'istitle', 'isupper', 'join', 'ljust', 'lower', 'lstrip', 'maketrans', 'partition', 'replace', 'rfind', 'rindex', 'rjust', 'rpartition', 'rsplit', 'rstrip', 'split', 'splitlines', 'startswith', 'strip', 'swapcase', 'title', 'translate', 'upper', 'zfill']\n"
     ]
    }
   ],
   "source": [
    "print(dir(str()))"
   ]
  },
  {
   "cell_type": "code",
   "execution_count": 27,
   "metadata": {},
   "outputs": [
    {
     "name": "stdout",
     "output_type": "stream",
     "text": [
      "True\n"
     ]
    }
   ],
   "source": [
    "s='mahesh'\n",
    "print(s.isalpha())"
   ]
  },
  {
   "cell_type": "code",
   "execution_count": 75,
   "metadata": {},
   "outputs": [
    {
     "name": "stdout",
     "output_type": "stream",
     "text": [
      "9 7 20 raju kiran somu mahesh123 som2342u raj234esh$\n",
      "2079\n",
      "['Raju', 'Kiran', 'Somu']\n",
      "['mahesh', 'somu', 'rajesh']\n"
     ]
    }
   ],
   "source": [
    "n = input().split()\n",
    "nu = []\n",
    "al = []\n",
    "na = []\n",
    "# mm = []\n",
    "for i in n:\n",
    "    if i.isdigit():\n",
    "        nu.append(i)\n",
    "    elif i.isalpha():\n",
    "        al.append(i[0].capitalize()+i[1:])\n",
    "    else:\n",
    "        na.append(i)\n",
    "nu.reverse()\n",
    "print(\"\".join(nu))\n",
    "print(al)\n",
    "# for j in al:\n",
    "#     mm.append(j[0].capitalize()+j[1:])\n",
    "# print(mm)\n",
    "fspl=[]\n",
    "for l in range(len(na)):\n",
    "    spl = []\n",
    "    for ll in range(len(na[l])):\n",
    "        if na[l][ll].isalpha():\n",
    "            spl.append(na[l][ll])\n",
    "    fspl.append(\"\".join(spl))\n",
    "print(fspl)\n",
    "        "
   ]
  },
  {
   "cell_type": "code",
   "execution_count": 66,
   "metadata": {},
   "outputs": [
    {
     "name": "stdout",
     "output_type": "stream",
     "text": [
      "['mahesh', 'somu', 'kiranrs']\n"
     ]
    }
   ],
   "source": [
    "k = ['mahesh123','som2u','kiran23rs']\n",
    "fs = []\n",
    "for i in range(len(k)):\n",
    "    sl = []\n",
    "    for j in range(len(k[i])):\n",
    "        if k[i][j].isalpha():\n",
    "            sl.append(k[i][j])\n",
    "    fs.append(\"\".join(sl))\n",
    "print(fs)"
   ]
  },
  {
   "cell_type": "code",
   "execution_count": 70,
   "metadata": {},
   "outputs": [
    {
     "name": "stdout",
     "output_type": "stream",
     "text": [
      "['mahesh', 'somu', 'kiranrs']\n"
     ]
    }
   ],
   "source": [
    "k = ['mahesh123','som2u','kiran23rs']\n",
    "fs = []\n",
    "for i in k:\n",
    "    spl = []\n",
    "    for j in i:\n",
    "        if j.isalpha():\n",
    "            spl.append(j)\n",
    "    fs.append(\"\".join(spl))\n",
    "print(fs)"
   ]
  },
  {
   "cell_type": "code",
   "execution_count": 101,
   "metadata": {},
   "outputs": [],
   "source": [
    "def ispr(n):\n",
    "    flag=True\n",
    "    "
   ]
  },
  {
   "cell_type": "code",
   "execution_count": 102,
   "metadata": {},
   "outputs": [
    {
     "name": "stdout",
     "output_type": "stream",
     "text": [
      "2\n"
     ]
    }
   ],
   "source": [
    "k = int(input())\n",
    "ispr(k)"
   ]
  },
  {
   "cell_type": "code",
   "execution_count": 140,
   "metadata": {},
   "outputs": [
    {
     "name": "stdout",
     "output_type": "stream",
     "text": [
      "9\n"
     ]
    },
    {
     "data": {
      "text/plain": [
       "False"
      ]
     },
     "execution_count": 140,
     "metadata": {},
     "output_type": "execute_result"
    }
   ],
   "source": [
    "def isprime(n):\n",
    "    for i in range(2,n):\n",
    "        if n%i==0:\n",
    "            return False\n",
    "    return True\n",
    "n=int(input())\n",
    "isprime(n)\n"
   ]
  },
  {
   "cell_type": "code",
   "execution_count": 141,
   "metadata": {},
   "outputs": [
    {
     "name": "stdout",
     "output_type": "stream",
     "text": [
      "[2, 3, 5, 7]\n"
     ]
    },
    {
     "data": {
      "text/plain": [
       "4"
      ]
     },
     "execution_count": 141,
     "metadata": {},
     "output_type": "execute_result"
    }
   ],
   "source": [
    "a=[i for i in range(2,10) if isprime(i)]\n",
    "print(a)\n",
    "len(a)"
   ]
  },
  {
   "cell_type": "code",
   "execution_count": 145,
   "metadata": {},
   "outputs": [
    {
     "name": "stdout",
     "output_type": "stream",
     "text": [
      "[True, True, False, True, False, True, False, False, False, True, False, True, False, False, False, True, False, True, False, False, False, True, False, False, False, False, False, True, False, True, False, False, False, False, False, True, False, False, False, True, False, True, False, False, False, True, False, False, False, False, False, True, False, False, False, False, False, True, False, True, False, False, False, False, False, True, False, False, False, True, False, True, False, False, False, False, False, True, False, False, False, True, False, False, False, False, False, True, False, False, False, False, False, False, False, True, False, False]"
     ]
    }
   ],
   "source": [
    "print(list(map(isprime,range(2,100))),end=\"\")"
   ]
  },
  {
   "cell_type": "code",
   "execution_count": null,
   "metadata": {},
   "outputs": [],
   "source": [
    "    "
   ]
  }
 ],
 "metadata": {
  "kernelspec": {
   "display_name": "Python 3",
   "language": "python",
   "name": "python3"
  },
  "language_info": {
   "codemirror_mode": {
    "name": "ipython",
    "version": 3
   },
   "file_extension": ".py",
   "mimetype": "text/x-python",
   "name": "python",
   "nbconvert_exporter": "python",
   "pygments_lexer": "ipython3",
   "version": "3.7.3"
  }
 },
 "nbformat": 4,
 "nbformat_minor": 2
}
