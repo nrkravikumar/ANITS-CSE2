{
 "cells": [
  {
   "cell_type": "markdown",
   "metadata": {},
   "source": [
    "## Operators"
   ]
  },
  {
   "cell_type": "markdown",
   "metadata": {},
   "source": [
    " ```\n",
    " - Arithmetic Operators -> +,-,/,*,%,//,**\n",
    " - Logical Operators -> AND,OR,NOT\n",
    " - Relational Operators -> >=,<=,==,!=\n",
    " - Bitwise Operators -> >>,<<,^,~,&,|\n",
    " - Assignment Operators -> +=,-=,/=,%=,*=\n",
    " - Membership Operator and -> in, not in\n",
    " - Identity Operator -> is, is not\n",
    "    ```"
   ]
  },
  {
   "cell_type": "markdown",
   "metadata": {},
   "source": [
    "```\n",
    "Task-1:\n",
    "-------\n",
    "Input:  8\n",
    "        7\n",
    "Output:\n",
    "    addition of 8 and 7 is: ?\n",
    "    substraction of 8 and 7 is: ?\n",
    "    multiplication of 8 and 7 is: ?\n",
    "```"
   ]
  },
  {
   "cell_type": "code",
   "execution_count": 10,
   "metadata": {},
   "outputs": [
    {
     "name": "stdout",
     "output_type": "stream",
     "text": [
      "6\n",
      "2\n",
      "Addition of 6 and 2 is: 8\n",
      "Substraction of 6 and 2 is: 4\n",
      "Multiplication of 2 and 12 is: 6\n",
      "Modulus of 6 and 2 is: 0\n",
      "Floor Division of 6 and 2 is: 3\n",
      "Division of 6 and 2 is: 3.0\n",
      "Power of 6 and 2 is: 36\n"
     ]
    }
   ],
   "source": [
    "n = int(input())\n",
    "m = int(input())\n",
    "print(\"Addition of\",n,\"and\",m,\"is:\",n+m)\n",
    "print(\"Substraction of %d and %d is: %d\"%(n,m,n-m))\n",
    "print(\"Multiplication of {1} and {2} is: {0}\".format(n,m,n*m))\n",
    "print(\"Modulus of {} and {} is: {}\".format(n,m,n%m))\n",
    "print(\"Floor Division of {} and {} is: {}\".format(n,m,n//m))\n",
    "print(\"Division of {} and {} is: {}\".format(n,m,n/m))\n",
    "print(\"Power of {} and {} is: {}\".format(n,m,n**m))"
   ]
  },
  {
   "cell_type": "code",
   "execution_count": 15,
   "metadata": {},
   "outputs": [
    {
     "name": "stdout",
     "output_type": "stream",
     "text": [
      "19\n"
     ]
    }
   ],
   "source": [
    "j = -20\n",
    "# n = -(n+1)\n",
    "print(~j)"
   ]
  },
  {
   "cell_type": "markdown",
   "metadata": {},
   "source": [
    "# Conditional Statements:\n",
    "    - To Check whether the given condition is either True or False\n",
    "    \n",
    "    - if -> single case stmnt\n",
    "        syntax:\n",
    "            if (condition):\n",
    "                //stmnt\n",
    "    - if-else -> two cases\n",
    "        syntax:\n",
    "            if (condition):\n",
    "                //stmnt\n",
    "            else:\n",
    "                //stmnt\n",
    "    - nested if -> two or more\n",
    "        syntax:\n",
    "            if (condition1):\n",
    "                if (condition2):\n",
    "                    //stmnt1\n",
    "                else:\n",
    "                    //stmnt2\n",
    "            else:\n",
    "                //stmnt3\n",
    "    - elif -> three or more\n",
    "        syntax:\n",
    "              if (condition1):\n",
    "                  //stmnt1\n",
    "              elif (condition2):\n",
    "                  //stmnt2\n",
    "              elif (conditionn):\n",
    "                  //stmntn\n",
    "                  |\n",
    "                  |\n",
    "              else:\n",
    "                  //stmntn"
   ]
  },
  {
   "cell_type": "code",
   "execution_count": 17,
   "metadata": {},
   "outputs": [
    {
     "name": "stdout",
     "output_type": "stream",
     "text": [
      "4\n",
      "4\n",
      "4 and 4 are equal\n"
     ]
    }
   ],
   "source": [
    "n = int(input())\n",
    "m = int(input())\n",
    "if n==m:\n",
    "    print(\"{} and {} are equal\".format(n,m))"
   ]
  },
  {
   "cell_type": "code",
   "execution_count": 18,
   "metadata": {},
   "outputs": [
    {
     "name": "stdout",
     "output_type": "stream",
     "text": [
      "25\n",
      "Eligible for Voting\n"
     ]
    }
   ],
   "source": [
    "n = int(input())\n",
    "if n>=18:\n",
    "    print(\"Eligible for Voting\")\n",
    "else:\n",
    "    print(\"Not Eligible for Voting\")"
   ]
  },
  {
   "cell_type": "code",
   "execution_count": 23,
   "metadata": {},
   "outputs": [
    {
     "name": "stdout",
     "output_type": "stream",
     "text": [
      "18\n",
      "You are eligible from 0 years\n"
     ]
    }
   ],
   "source": [
    "n=int(input())\n",
    "if n>=18:\n",
    "    print(\"You are eligible from {} years\".format(n-18))\n",
    "# elif n==18:\n",
    "#     print(\"You are eligible from {} years\".format(n-18))\n",
    "else:\n",
    "    print(\"You are not eligible but you have\" \n",
    "          \" to wait for {} years\".format(18-n))"
   ]
  },
  {
   "cell_type": "markdown",
   "metadata": {},
   "source": [
    "### Userid and pin checking"
   ]
  },
  {
   "cell_type": "markdown",
   "metadata": {},
   "source": [
    "```\n",
    "userid = 345\n",
    "pin = 234\n",
    "\n",
    "Input: 356\n",
    "       345\n",
    "Output: Invalid userid 356 or pin\n",
    "    \n",
    "Input: 345 \n",
    "       212\n",
    "Output: Invalid userid 345 or pin\n",
    "\n",
    "Input: 345\n",
    "       234\n",
    "Output:Welcome user 345!!!\n",
    "```"
   ]
  },
  {
   "cell_type": "code",
   "execution_count": 26,
   "metadata": {},
   "outputs": [
    {
     "name": "stdout",
     "output_type": "stream",
     "text": [
      "345\n",
      "234\n",
      "Welcome User 345\n"
     ]
    }
   ],
   "source": [
    "uid = int(input())\n",
    "pin = int(input())\n",
    "if uid==345 and pin==234:\n",
    "    print(\"Welcome User {}\".format(uid))\n",
    "else:\n",
    "    print(\"Invalid userid {}\".format(uid))"
   ]
  },
  {
   "cell_type": "code",
   "execution_count": 30,
   "metadata": {},
   "outputs": [
    {
     "name": "stdout",
     "output_type": "stream",
     "text": [
      "----------Registration---------\n",
      "Enter useid to fix:1234\n",
      "Enter pin to fix:321\n",
      "-----------Validating-----------\n",
      "1234\n",
      "321\n",
      "Welcome User 1234\n"
     ]
    }
   ],
   "source": [
    "print(\"----------Registration---------\")\n",
    "ufix = int(input(\"Enter useid to fix:\"))\n",
    "pifix = int(input(\"Enter pin to fix:\"))\n",
    "print(\"-----------Validating-----------\")\n",
    "uid = int(input())\n",
    "pin = int(input())\n",
    "if uid==ufix and pin==pifix:\n",
    "    print(\"Welcome User {}\".format(uid))\n",
    "else:\n",
    "    print(\"Invalid userid {}\".format(uid))"
   ]
  },
  {
   "cell_type": "markdown",
   "metadata": {},
   "source": [
    "```\n",
    "uid = 785\n",
    "pin = 009\n",
    "\n",
    "Input: 789\n",
    "Output: Invalid Userid 789\n",
    "\n",
    "Input: 785\n",
    "       34\n",
    "Output: Invalid pin for userid 785\n",
    "\n",
    "Input: 785\n",
    "       009\n",
    "Output: Welcome Userid 785\n",
    "    ```"
   ]
  },
  {
   "cell_type": "code",
   "execution_count": 34,
   "metadata": {},
   "outputs": [
    {
     "name": "stdout",
     "output_type": "stream",
     "text": [
      "785\n",
      "94\n",
      "Welcome Userid 785\n"
     ]
    }
   ],
   "source": [
    "uid = int(input())\n",
    "if uid == 785:\n",
    "    pin = int(input())\n",
    "    if pin == 94:\n",
    "        print(\"Welcome Userid {}\".format(uid))\n",
    "    else:\n",
    "        print(\"Invalid pin for userid {}\".format(uid))\n",
    "else:\n",
    "    print(\"Invalid userid {}\".format(uid))"
   ]
  },
  {
   "cell_type": "markdown",
   "metadata": {},
   "source": [
    "```\n",
    "Task-2\n",
    "-------\n",
    "16\n",
    "16 is divisible by 2\n",
    "\n",
    "5\n",
    "given number is 5 and it is not divisible by 2 so output will be 5.0\n",
    "\n",
    "9\n",
    "given number is 9 and it is divisible by 3\n",
    "```"
   ]
  },
  {
   "cell_type": "code",
   "execution_count": 40,
   "metadata": {},
   "outputs": [
    {
     "name": "stdout",
     "output_type": "stream",
     "text": [
      "4\n",
      "4 is divisible by 2\n"
     ]
    }
   ],
   "source": [
    "n = int(input())\n",
    "if n%5==0:\n",
    "    print(\"{} is divisible by 5\".format(n))\n",
    "elif n%2==0:\n",
    "    print(\"{} is divisible by 2\".format(n))\n",
    "elif n%3==0:\n",
    "    print(\"Given number is {} and it is divisible by 3\".format(n))\n",
    "else:\n",
    "    print(\"Given number is {} and it is not divisible by 2 so \" \n",
    "          \"output will be {}\".format(n,float(n)))"
   ]
  },
  {
   "cell_type": "markdown",
   "metadata": {},
   "source": [
    "# Loops or iteration or repetition or control statements:\n",
    "```    \n",
    "        - For -> particular range\n",
    "            Syntax:\n",
    "            -range(n) -> Starting with 0 and ends with n-1\n",
    "            -range(n,m) -> starting with n and ending with m-1\n",
    "            -range(n,m,s) -> starting with n and ending with m-1 with step                                s\n",
    "                for itervariable in range():\n",
    "                    //stmnts\n",
    "        - While -> particular range and infinity \n",
    "            Syntax:\n",
    "            while condition:\n",
    "                //stmnt\n",
    "                             \n",
    "            starting = 0\n",
    "            while condition:\n",
    "                //stmnt\n",
    "                incr/decr\n",
    "```"
   ]
  },
  {
   "cell_type": "code",
   "execution_count": 47,
   "metadata": {},
   "outputs": [
    {
     "name": "stdout",
     "output_type": "stream",
     "text": [
      "6\n",
      "0,1,2,3,4,5"
     ]
    }
   ],
   "source": [
    "n = int(input())\n",
    "for i in range(n):\n",
    "    if i==n-1:\n",
    "        print(i,end=\"\")\n",
    "    else:\n",
    "        print(i,end=\",\")"
   ]
  },
  {
   "cell_type": "code",
   "execution_count": null,
   "metadata": {},
   "outputs": [],
   "source": []
  }
 ],
 "metadata": {
  "kernelspec": {
   "display_name": "Python 3",
   "language": "python",
   "name": "python3"
  },
  "language_info": {
   "codemirror_mode": {
    "name": "ipython",
    "version": 3
   },
   "file_extension": ".py",
   "mimetype": "text/x-python",
   "name": "python",
   "nbconvert_exporter": "python",
   "pygments_lexer": "ipython3",
   "version": "3.7.3"
  }
 },
 "nbformat": 4,
 "nbformat_minor": 2
}
