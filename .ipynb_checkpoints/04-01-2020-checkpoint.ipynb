{
 "cells": [
  {
   "cell_type": "code",
   "execution_count": null,
   "metadata": {},
   "outputs": [],
   "source": [
    "#Task:\n",
    "\n",
    "9 7 20 raju kiran somu mahesh123 som2342u raj234esh$\n",
    "\n",
    "2079"
   ]
  },
  {
   "cell_type": "code",
   "execution_count": 6,
   "metadata": {},
   "outputs": [
    {
     "name": "stdout",
     "output_type": "stream",
     "text": [
      "2079\n"
     ]
    }
   ],
   "source": [
    "s = ['9','7','20']\n",
    "s.reverse()\n",
    "print(\"\".join(s))"
   ]
  },
  {
   "cell_type": "code",
   "execution_count": 7,
   "metadata": {},
   "outputs": [
    {
     "name": "stdout",
     "output_type": "stream",
     "text": [
      "['Ramu', 'Somu']\n"
     ]
    }
   ],
   "source": [
    "d = ['ramu','somu']\n",
    "k = []\n",
    "for i in range(len(d)):\n",
    "    k.append(d[i].title())\n",
    "print(k)"
   ]
  },
  {
   "cell_type": "code",
   "execution_count": 16,
   "metadata": {},
   "outputs": [
    {
     "name": "stdout",
     "output_type": "stream",
     "text": [
      "['mahesh', 'seenu']\n"
     ]
    }
   ],
   "source": [
    "g = ['mahes34h','s23een546u']\n",
    "l = []\n",
    "mm = []\n",
    "for j in g:\n",
    "    l = []\n",
    "    for m in j:\n",
    "        if m.isalpha():\n",
    "            l.append(m)\n",
    "#     print(l)\n",
    "    mm.append(\"\".join(l))\n",
    "print(mm)\n",
    "        "
   ]
  },
  {
   "cell_type": "code",
   "execution_count": 27,
   "metadata": {},
   "outputs": [
    {
     "name": "stdout",
     "output_type": "stream",
     "text": [
      "['shnsjm', 'jgdhh', 'dfhkj']\n",
      "['dfhkj', 'jgdhh', 'shnsjm']\n",
      "['aa', 'dfhkj', 'jgdhh', 'shnsjm']\n",
      "1\n"
     ]
    }
   ],
   "source": [
    "a=['shnsjm','jgdhh','dfhkj']\n",
    "print(a)\n",
    "a.reverse()\n",
    "print(a)\n",
    "a.append('aa')\n",
    "a.sort()\n",
    "print(a)\n",
    "print(a.count('jgdhh'))"
   ]
  },
  {
   "cell_type": "code",
   "execution_count": null,
   "metadata": {},
   "outputs": [],
   "source": [
    "import re\n",
    "p='[a-z]{1,}'\n",
    "l=['9','7','20','raju','kiran','somu','mahesh123','som2342u','raj234esh$']\n",
    "if re.match(p,l)\n"
   ]
  },
  {
   "cell_type": "code",
   "execution_count": 28,
   "metadata": {},
   "outputs": [
    {
     "data": {
      "text/plain": [
       "{3, 5, 'rajesh', 'somu'}"
      ]
     },
     "execution_count": 28,
     "metadata": {},
     "output_type": "execute_result"
    }
   ],
   "source": [
    "g={3,3,5,'somu','rajesh'}\n",
    "g"
   ]
  },
  {
   "cell_type": "code",
   "execution_count": 31,
   "metadata": {},
   "outputs": [
    {
     "data": {
      "text/plain": [
       "{10, 3, 5, 'akash', 'omkar'}"
      ]
     },
     "execution_count": 31,
     "metadata": {},
     "output_type": "execute_result"
    }
   ],
   "source": [
    "g={5,3,10,'omkar','akash'}\n",
    "(g)"
   ]
  },
  {
   "cell_type": "code",
   "execution_count": 32,
   "metadata": {},
   "outputs": [
    {
     "name": "stdout",
     "output_type": "stream",
     "text": [
      "['__and__', '__class__', '__contains__', '__delattr__', '__dir__', '__doc__', '__eq__', '__format__', '__ge__', '__getattribute__', '__gt__', '__hash__', '__iand__', '__init__', '__init_subclass__', '__ior__', '__isub__', '__iter__', '__ixor__', '__le__', '__len__', '__lt__', '__ne__', '__new__', '__or__', '__rand__', '__reduce__', '__reduce_ex__', '__repr__', '__ror__', '__rsub__', '__rxor__', '__setattr__', '__sizeof__', '__str__', '__sub__', '__subclasshook__', '__xor__', 'add', 'clear', 'copy', 'difference', 'difference_update', 'discard', 'intersection', 'intersection_update', 'isdisjoint', 'issubset', 'issuperset', 'pop', 'remove', 'symmetric_difference', 'symmetric_difference_update', 'union', 'update']\n"
     ]
    }
   ],
   "source": [
    "print(dir(set))"
   ]
  },
  {
   "cell_type": "code",
   "execution_count": 38,
   "metadata": {},
   "outputs": [
    {
     "name": "stdout",
     "output_type": "stream",
     "text": [
      "{45, 3, 5}\n",
      "<class 'set'>\n"
     ]
    }
   ],
   "source": [
    "s={3,5,5,3,3,3,}\n",
    "s.add(45)\n",
    "print(s)\n",
    "print(type(s))"
   ]
  },
  {
   "cell_type": "code",
   "execution_count": 39,
   "metadata": {},
   "outputs": [
    {
     "name": "stdout",
     "output_type": "stream",
     "text": [
      "{45, 3, 5}\n",
      "{45, 3, 5}\n"
     ]
    }
   ],
   "source": [
    "s1 = s.copy()\n",
    "print(s)\n",
    "print(s1)"
   ]
  },
  {
   "cell_type": "code",
   "execution_count": 40,
   "metadata": {},
   "outputs": [
    {
     "name": "stdout",
     "output_type": "stream",
     "text": [
      "{8, 5, 7}\n",
      "{145, 123, 100, 101}\n",
      "{1, 2, 4, 5, 7, 8}\n",
      "{1, 2, 4, 100, 101, 145, 123}\n"
     ]
    }
   ],
   "source": [
    "s={4,2,1,5,7,8}\n",
    "s1={100,145,123,101,4,2,1}\n",
    "print(s.difference(s1))\n",
    "print(s1.difference(s))\n",
    "print(s)\n",
    "print(s1)"
   ]
  },
  {
   "cell_type": "code",
   "execution_count": 55,
   "metadata": {},
   "outputs": [
    {
     "name": "stdout",
     "output_type": "stream",
     "text": [
      "{1, 2, 4, 100, 101, 145, 123}\n",
      "None\n"
     ]
    }
   ],
   "source": [
    "s={4,2,1,5,7,8}\n",
    "s1={100,145,123,101,4,2,1}\n",
    "s=s.difference_update(s1)\n",
    "print(s1)\n",
    "print(s)"
   ]
  },
  {
   "cell_type": "code",
   "execution_count": 56,
   "metadata": {},
   "outputs": [
    {
     "name": "stdout",
     "output_type": "stream",
     "text": [
      "{1, 2, 4, 5, 7, 8}\n",
      "None\n"
     ]
    }
   ],
   "source": [
    "s={4,2,1,5,7,8}\n",
    "s1={100,145,123,101,4,2,1}\n",
    "s1=s1.difference_update(s)\n",
    "print(s)\n",
    "print(s1)"
   ]
  },
  {
   "cell_type": "code",
   "execution_count": 57,
   "metadata": {},
   "outputs": [
    {
     "name": "stdout",
     "output_type": "stream",
     "text": [
      "{1, 2, 4}\n",
      "{1, 2, 4}\n",
      "{1, 2, 4, 5, 7, 8}\n",
      "{1, 2, 4, 100, 101, 145, 123}\n"
     ]
    }
   ],
   "source": [
    "s={4,2,1,5,7,8}\n",
    "s1={100,145,123,101,4,2,1}\n",
    "print(s.intersection(s1))\n",
    "print(s1.intersection(s))\n",
    "print(s)\n",
    "print(s1)"
   ]
  },
  {
   "cell_type": "code",
   "execution_count": 64,
   "metadata": {},
   "outputs": [
    {
     "name": "stdout",
     "output_type": "stream",
     "text": [
      "{1, 2, 4}\n",
      "None\n"
     ]
    }
   ],
   "source": [
    "s={4,2,1,5,7,8}\n",
    "s1={100,145,123,101,4,2,1}\n",
    "s1=s.intersection_update(s1)\n",
    "print(s)\n",
    "print(s1)"
   ]
  },
  {
   "cell_type": "code",
   "execution_count": 65,
   "metadata": {},
   "outputs": [
    {
     "name": "stdout",
     "output_type": "stream",
     "text": [
      "{1, 2, 4, 5, 100, 7, 8, 101, 145, 123}\n",
      "{1, 2, 4, 5, 7, 8}\n",
      "{1, 2, 4, 100, 101, 145, 123}\n"
     ]
    }
   ],
   "source": [
    "s={4,2,1,5,7,8}\n",
    "s1={100,145,123,101,4,2,1}\n",
    "print(s.union(s1))\n",
    "print(s)\n",
    "print(s1)"
   ]
  },
  {
   "cell_type": "code",
   "execution_count": 66,
   "metadata": {},
   "outputs": [
    {
     "name": "stdout",
     "output_type": "stream",
     "text": [
      "{1, 2, 4, 5, 100, 7, 8, 101, 145, 123}\n",
      "{1, 2, 4, 100, 101, 145, 123}\n"
     ]
    }
   ],
   "source": [
    "s={4,2,1,5,7,8}\n",
    "s1={100,145,123,101,4,2,1}\n",
    "s.update(s1)\n",
    "print(s)\n",
    "print(s1)"
   ]
  },
  {
   "cell_type": "code",
   "execution_count": 67,
   "metadata": {},
   "outputs": [
    {
     "name": "stdout",
     "output_type": "stream",
     "text": [
      "{100, 101, 5, 7, 8, 145, 123}\n",
      "{1, 2, 4, 5, 7, 8}\n",
      "{1, 2, 4, 100, 101, 145, 123}\n"
     ]
    }
   ],
   "source": [
    "s={4,2,1,5,7,8}\n",
    "s1={100,145,123,101,4,2,1}\n",
    "print(s.symmetric_difference(s1))\n",
    "print(s)\n",
    "print(s1)"
   ]
  },
  {
   "cell_type": "code",
   "execution_count": 68,
   "metadata": {},
   "outputs": [
    {
     "name": "stdout",
     "output_type": "stream",
     "text": [
      "{100, 101, 5, 7, 8, 145, 123}\n",
      "{1, 2, 4, 100, 101, 145, 123}\n"
     ]
    }
   ],
   "source": [
    "s={4,2,1,5,7,8}\n",
    "s1={100,145,123,101,4,2,1}\n",
    "s=s.symmetric_difference(s1)\n",
    "print(s)\n",
    "print(s1)"
   ]
  },
  {
   "cell_type": "markdown",
   "metadata": {},
   "source": [
    "# Dictionary:"
   ]
  },
  {
   "cell_type": "markdown",
   "metadata": {},
   "source": [
    "    - Collection of key and value pairs\n",
    "    - It can be define as {} and dict()\n",
    "    - It can changes the value by key, Slicing can be done only on key and values\n",
    "    - Ordered type of data is to be stored but it is in key value pairs\n",
    "    - It doesn't allows the duplicate keys"
   ]
  },
  {
   "cell_type": "code",
   "execution_count": 72,
   "metadata": {},
   "outputs": [
    {
     "name": "stdout",
     "output_type": "stream",
     "text": [
      "{'name': ['rajesh', 'somu'], 'age': 34, 'year': '2 year'}\n",
      "<class 'dict'>\n"
     ]
    }
   ],
   "source": [
    "h = {'name':['rajesh','somu'],'age':34,'year':'2 year'}\n",
    "print(h)\n",
    "print(type(h))"
   ]
  },
  {
   "cell_type": "code",
   "execution_count": 73,
   "metadata": {},
   "outputs": [
    {
     "name": "stdout",
     "output_type": "stream",
     "text": [
      "('name', ['rajesh', 'somu']) ('age', 34) ('year', '2 year') "
     ]
    }
   ],
   "source": [
    "for i in h.items():\n",
    "    print(i,end=\" \")"
   ]
  },
  {
   "cell_type": "code",
   "execution_count": 75,
   "metadata": {},
   "outputs": [
    {
     "name": "stdout",
     "output_type": "stream",
     "text": [
      "name age year "
     ]
    }
   ],
   "source": [
    "for j in h.keys():\n",
    "    print(j,end=\" \")"
   ]
  },
  {
   "cell_type": "code",
   "execution_count": 76,
   "metadata": {},
   "outputs": [
    {
     "name": "stdout",
     "output_type": "stream",
     "text": [
      "['rajesh', 'somu'] 34 2 year "
     ]
    }
   ],
   "source": [
    "for k in h.values():\n",
    "    print(k,end=\" \")"
   ]
  },
  {
   "cell_type": "code",
   "execution_count": 77,
   "metadata": {},
   "outputs": [
    {
     "name": "stdout",
     "output_type": "stream",
     "text": [
      "['__class__', '__contains__', '__delattr__', '__delitem__', '__dir__', '__doc__', '__eq__', '__format__', '__ge__', '__getattribute__', '__getitem__', '__gt__', '__hash__', '__init__', '__init_subclass__', '__iter__', '__le__', '__len__', '__lt__', '__ne__', '__new__', '__reduce__', '__reduce_ex__', '__repr__', '__setattr__', '__setitem__', '__sizeof__', '__str__', '__subclasshook__', 'clear', 'copy', 'fromkeys', 'get', 'items', 'keys', 'pop', 'popitem', 'setdefault', 'update', 'values']\n"
     ]
    }
   ],
   "source": [
    "print(dir(dict))"
   ]
  },
  {
   "cell_type": "code",
   "execution_count": 79,
   "metadata": {},
   "outputs": [
    {
     "name": "stdout",
     "output_type": "stream",
     "text": [
      "['rajesh', 'somu']\n"
     ]
    }
   ],
   "source": [
    "print(h.get('name'))"
   ]
  },
  {
   "cell_type": "code",
   "execution_count": 80,
   "metadata": {},
   "outputs": [
    {
     "name": "stdout",
     "output_type": "stream",
     "text": [
      "34\n"
     ]
    }
   ],
   "source": [
    "print(h.get('age'))"
   ]
  },
  {
   "cell_type": "code",
   "execution_count": 88,
   "metadata": {},
   "outputs": [
    {
     "name": "stdout",
     "output_type": "stream",
     "text": [
      "{'name': ['rajesh', 'somu'], 'age': 34, 'year': '2 year'}\n",
      "{'name': ['rajesh', 'somu'], 'year': '2 year'}\n"
     ]
    }
   ],
   "source": [
    "print(h)\n",
    "h.pop('age')\n",
    "print(h)"
   ]
  },
  {
   "cell_type": "code",
   "execution_count": 91,
   "metadata": {},
   "outputs": [
    {
     "name": "stdout",
     "output_type": "stream",
     "text": [
      "{'name': ['rajesh', 'somu'], 'year': '2 year'}\n",
      "{'name': ['rajesh', 'somu']}\n"
     ]
    }
   ],
   "source": [
    "print(h)\n",
    "h.popitem()\n",
    "print(h)"
   ]
  },
  {
   "cell_type": "code",
   "execution_count": 95,
   "metadata": {},
   "outputs": [
    {
     "name": "stdout",
     "output_type": "stream",
     "text": [
      "{'name': 'kiran', 'surname': 'kiran'}\n"
     ]
    }
   ],
   "source": [
    "h['surname']='kiran'\n",
    "print(h)"
   ]
  },
  {
   "cell_type": "code",
   "execution_count": 97,
   "metadata": {},
   "outputs": [
    {
     "name": "stdout",
     "output_type": "stream",
     "text": [
      "{'name': 'kiran', 'surname': 'kiran', 'io': None}\n"
     ]
    }
   ],
   "source": [
    "h.setdefault('io')\n",
    "print(h)"
   ]
  },
  {
   "cell_type": "code",
   "execution_count": 100,
   "metadata": {},
   "outputs": [
    {
     "data": {
      "text/plain": [
       "{'n': None, 'a': None, 'm': None, 'e': None}"
      ]
     },
     "execution_count": 100,
     "metadata": {},
     "output_type": "execute_result"
    }
   ],
   "source": [
    "h.fromkeys('name')"
   ]
  },
  {
   "cell_type": "code",
   "execution_count": 102,
   "metadata": {},
   "outputs": [],
   "source": [
    "h.update({'io':'raj'})"
   ]
  },
  {
   "cell_type": "code",
   "execution_count": 106,
   "metadata": {},
   "outputs": [
    {
     "name": "stdout",
     "output_type": "stream",
     "text": [
      "{'name': 'kiran', 'surname': 'raju', 'io': 'raj'}\n",
      "{'name': 'kiran', 'surname': 'Surya', 'io': 'raj'}\n"
     ]
    }
   ],
   "source": [
    "print(h)\n",
    "h.update({'surname':'Surya'})\n",
    "print(h)"
   ]
  },
  {
   "cell_type": "markdown",
   "metadata": {},
   "source": [
    "## Modules and Packages"
   ]
  },
  {
   "cell_type": "code",
   "execution_count": 109,
   "metadata": {},
   "outputs": [
    {
     "name": "stdout",
     "output_type": "stream",
     "text": [
      "73 45 73 65 5 14 84 36 72 48 "
     ]
    }
   ],
   "source": [
    "# print the random values between the given range\n",
    "import random\n",
    "def pack(lb,ub,n):\n",
    "    for i in range(n):\n",
    "        print(random.randint(lb,ub),end=\" \")\n",
    "pack(1,100,10)"
   ]
  },
  {
   "cell_type": "markdown",
   "metadata": {},
   "source": [
    "## File Handling"
   ]
  },
  {
   "cell_type": "markdown",
   "metadata": {},
   "source": [
    "```\n",
    "Open File\n",
    "Doing Operations on File\n",
    "Closing File\n",
    "```"
   ]
  },
  {
   "cell_type": "code",
   "execution_count": 113,
   "metadata": {
    "collapsed": true
   },
   "outputs": [
    {
     "name": "stdout",
     "output_type": "stream",
     "text": [
      "I am in anits college\n",
      "For workshop on Python\n",
      "For the department of CSE\n"
     ]
    },
    {
     "ename": "ValueError",
     "evalue": "I/O operation on closed file.",
     "output_type": "error",
     "traceback": [
      "\u001b[1;31m---------------------------------------------------------------------------\u001b[0m",
      "\u001b[1;31mValueError\u001b[0m                                Traceback (most recent call last)",
      "\u001b[1;32m<ipython-input-113-78764eadb6bb>\u001b[0m in \u001b[0;36m<module>\u001b[1;34m\u001b[0m\n\u001b[0;32m      2\u001b[0m \u001b[0mprint\u001b[0m\u001b[1;33m(\u001b[0m\u001b[0mf\u001b[0m\u001b[1;33m.\u001b[0m\u001b[0mread\u001b[0m\u001b[1;33m(\u001b[0m\u001b[1;33m)\u001b[0m\u001b[1;33m)\u001b[0m\u001b[1;33m\u001b[0m\u001b[1;33m\u001b[0m\u001b[0m\n\u001b[0;32m      3\u001b[0m \u001b[0mf\u001b[0m\u001b[1;33m.\u001b[0m\u001b[0mclose\u001b[0m\u001b[1;33m(\u001b[0m\u001b[1;33m)\u001b[0m\u001b[1;33m\u001b[0m\u001b[1;33m\u001b[0m\u001b[0m\n\u001b[1;32m----> 4\u001b[1;33m \u001b[0mprint\u001b[0m\u001b[1;33m(\u001b[0m\u001b[0mf\u001b[0m\u001b[1;33m.\u001b[0m\u001b[0mread\u001b[0m\u001b[1;33m(\u001b[0m\u001b[1;33m)\u001b[0m\u001b[1;33m)\u001b[0m\u001b[1;33m\u001b[0m\u001b[1;33m\u001b[0m\u001b[0m\n\u001b[0m",
      "\u001b[1;31mValueError\u001b[0m: I/O operation on closed file."
     ]
    }
   ],
   "source": [
    "f = open('Data/file.txt')# By default it is in read mode\n",
    "print(f.read())\n",
    "f.close()\n",
    "print(f.read())"
   ]
  },
  {
   "cell_type": "markdown",
   "metadata": {},
   "source": [
    "```\n",
    "read mode\n",
    "write mode\n",
    "append mode\n",
    "```"
   ]
  },
  {
   "cell_type": "code",
   "execution_count": 116,
   "metadata": {},
   "outputs": [
    {
     "name": "stdout",
     "output_type": "stream",
     "text": [
      "I am in anits college\n",
      "For workshop on Python\n",
      "For the department of CSE\n"
     ]
    }
   ],
   "source": [
    "f = open('Data/file.txt','r')\n",
    "print(f.read())\n",
    "f.close()"
   ]
  },
  {
   "cell_type": "code",
   "execution_count": 121,
   "metadata": {},
   "outputs": [],
   "source": [
    "f = open('Data/file.txt','w')\n",
    "f.write('i am an apssdc trainer')\n",
    "f.close()"
   ]
  },
  {
   "cell_type": "code",
   "execution_count": 122,
   "metadata": {},
   "outputs": [],
   "source": [
    "f = open('Data/file.txt','a')\n",
    "f.write(' Training in the Anits College \\n')\n",
    "f.close()"
   ]
  },
  {
   "cell_type": "code",
   "execution_count": 124,
   "metadata": {},
   "outputs": [
    {
     "name": "stdout",
     "output_type": "stream",
     "text": [
      "80\n"
     ]
    }
   ],
   "source": [
    "with open('Data/file.txt','r') as f:\n",
    "    f.read()\n",
    "    print(f.tell())\n",
    "    f.close()"
   ]
  },
  {
   "cell_type": "code",
   "execution_count": 126,
   "metadata": {},
   "outputs": [
    {
     "name": "stdout",
     "output_type": "stream",
     "text": [
      "I am an a\n"
     ]
    }
   ],
   "source": [
    "with open('Data/file.txt','r') as f:\n",
    "    f.seek(0)\n",
    "    print(f.read(9))"
   ]
  },
  {
   "cell_type": "code",
   "execution_count": 127,
   "metadata": {},
   "outputs": [
    {
     "name": "stdout",
     "output_type": "stream",
     "text": [
      "['I', 'am', 'an', 'apssdc', 'trainer.', 'Training', 'in', 'the', 'Anits', 'College.', 'For', 'the', 'department', 'of', 'CSE']\n"
     ]
    }
   ],
   "source": [
    "with open('Data/file.txt','r') as f:\n",
    "    r = f.read()\n",
    "    print(r.split())"
   ]
  },
  {
   "cell_type": "code",
   "execution_count": 128,
   "metadata": {},
   "outputs": [
    {
     "name": "stdout",
     "output_type": "stream",
     "text": [
      "['I am an apssdc trainer.\\n', 'Training in the Anits College.\\n', 'For the department of CSE']\n"
     ]
    }
   ],
   "source": [
    "with open('Data/file.txt','r') as f:\n",
    "    print(f.readlines())"
   ]
  },
  {
   "cell_type": "code",
   "execution_count": 130,
   "metadata": {},
   "outputs": [
    {
     "name": "stdout",
     "output_type": "stream",
     "text": [
      "I am an apssdc trainer.\n",
      "Training in the Anits College.\n",
      "For the department of CSE"
     ]
    }
   ],
   "source": [
    "with open('Data/file.txt','r') as f:\n",
    "    w = f.readlines()\n",
    "    for i in w:\n",
    "        print(i,end=\"\")"
   ]
  },
  {
   "cell_type": "code",
   "execution_count": 132,
   "metadata": {},
   "outputs": [
    {
     "name": "stdout",
     "output_type": "stream",
     "text": [
      "3"
     ]
    }
   ],
   "source": [
    "with open('Data/file.txt','r') as f:\n",
    "    c = 0\n",
    "    w = f.readlines()\n",
    "    for i in w:\n",
    "        c+=1\n",
    "    print(c,end=\"\")"
   ]
  },
  {
   "cell_type": "markdown",
   "metadata": {},
   "source": [
    "## Functional Programming"
   ]
  },
  {
   "cell_type": "code",
   "execution_count": 134,
   "metadata": {},
   "outputs": [
    {
     "name": "stdout",
     "output_type": "stream",
     "text": [
      "[1, 2, 3, 4, 5, 6, 7, 8, 9]\n"
     ]
    }
   ],
   "source": [
    "## List Comprehension\n",
    "l = []\n",
    "for i in range(1,10):\n",
    "    l.append(i)\n",
    "print(l)"
   ]
  },
  {
   "cell_type": "code",
   "execution_count": 141,
   "metadata": {},
   "outputs": [
    {
     "name": "stdout",
     "output_type": "stream",
     "text": [
      "[1, 2, 3, 4, 5, 6, 7, 8, 9]\n"
     ]
    }
   ],
   "source": [
    "print([i for i in range(1,10)])"
   ]
  },
  {
   "cell_type": "code",
   "execution_count": 145,
   "metadata": {},
   "outputs": [
    {
     "name": "stdout",
     "output_type": "stream",
     "text": [
      "1 2 3 45 6\n",
      "['1', '2', '3', '45', '6']\n"
     ]
    }
   ],
   "source": [
    "print([i for i in (input().split())])"
   ]
  },
  {
   "cell_type": "code",
   "execution_count": 149,
   "metadata": {},
   "outputs": [
    {
     "name": "stdout",
     "output_type": "stream",
     "text": [
      "['This', 'is', 'anits', 'college.We', 'are', 'having', 'the', 'Python', 'Workshop']\n"
     ]
    }
   ],
   "source": [
    "para = \"This is anits college.We are having the Python Workshop\"\n",
    "l=[]\n",
    "for j in para.split():\n",
    "    l.append(j)\n",
    "print(l)"
   ]
  },
  {
   "cell_type": "code",
   "execution_count": 151,
   "metadata": {},
   "outputs": [
    {
     "name": "stdout",
     "output_type": "stream",
     "text": [
      "['This', 'is', 'anits', 'college.We', 'are', 'having', 'the', 'Python', 'Workshop']\n"
     ]
    }
   ],
   "source": [
    "print([i for i in para.split()])"
   ]
  },
  {
   "cell_type": "markdown",
   "metadata": {},
   "source": [
    "## Maps"
   ]
  },
  {
   "cell_type": "code",
   "execution_count": 1,
   "metadata": {},
   "outputs": [
    {
     "name": "stdout",
     "output_type": "stream",
     "text": [
      "[2, 4, 6, 8]\n"
     ]
    }
   ],
   "source": [
    "def add(a):\n",
    "    return a+a\n",
    "l = list(map(add,range(1,5)))\n",
    "print(l)"
   ]
  },
  {
   "cell_type": "code",
   "execution_count": 2,
   "metadata": {},
   "outputs": [
    {
     "name": "stdout",
     "output_type": "stream",
     "text": [
      "{8, 1, 27, 64}\n"
     ]
    }
   ],
   "source": [
    "def cube(a):\n",
    "    return a ** 3\n",
    "print(set(map(cube,range(1,5))))"
   ]
  },
  {
   "cell_type": "code",
   "execution_count": null,
   "metadata": {},
   "outputs": [],
   "source": []
  }
 ],
 "metadata": {
  "kernelspec": {
   "display_name": "Python 3",
   "language": "python",
   "name": "python3"
  },
  "language_info": {
   "codemirror_mode": {
    "name": "ipython",
    "version": 3
   },
   "file_extension": ".py",
   "mimetype": "text/x-python",
   "name": "python",
   "nbconvert_exporter": "python",
   "pygments_lexer": "ipython3",
   "version": "3.7.3"
  }
 },
 "nbformat": 4,
 "nbformat_minor": 2
}
